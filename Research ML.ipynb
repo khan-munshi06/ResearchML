{
 "cells": [
  {
   "cell_type": "code",
   "execution_count": 187,
   "id": "24c1677a",
   "metadata": {},
   "outputs": [],
   "source": [
    "#importing necessary libraries\n",
    "import pandas as pd\n",
    "import numpy as np\n",
    "import os\n",
    "import warnings\n",
    "warnings.filterwarnings(\"ignore\")"
   ]
  },
  {
   "cell_type": "code",
   "execution_count": 188,
   "id": "a7f15877",
   "metadata": {},
   "outputs": [],
   "source": [
    "#importing datasets \n",
    "data_path = ['C:/Users/Munshi Khan']\n",
    "filepath1 = os.sep.join(data_path + [\"shrug_rbi.dta\"])\n",
    "filepath2 = os.sep.join(data_path + [\"shrug_secc.dta\"])\n",
    "filepath3 = os.sep.join(data_path + [\"shrug_pc11.dta\"])\n",
    "rbi = pd.read_stata(filepath1)\n",
    "secc = pd.read_stata(filepath2)\n",
    "pc11 = pd.read_stata(filepath3)"
   ]
  },
  {
   "cell_type": "code",
   "execution_count": 191,
   "id": "c1059496",
   "metadata": {},
   "outputs": [],
   "source": [
    "#Calculating an average access indicator for financial services in a village or town. To calculate this indicator\n",
    "#we calculate number of branches and total population using rbi and population datasets \n",
    "branches = len(rbi)\n",
    "total_population = pc11[\"pc11_pca_tot_p\"].sum()\n",
    "avg_access_indicator = (branches/total_population)*10000"
   ]
  },
  {
   "cell_type": "code",
   "execution_count": 192,
   "id": "a01ea954",
   "metadata": {},
   "outputs": [
    {
     "data": {
      "text/plain": [
       "1.2769590473361352"
      ]
     },
     "execution_count": 192,
     "metadata": {},
     "output_type": "execute_result"
    }
   ],
   "source": [
    "#The average access indicator is turned out to be around 1.2777\n",
    "avg_access_indicator"
   ]
  },
  {
   "cell_type": "code",
   "execution_count": 193,
   "id": "0154b3d3",
   "metadata": {},
   "outputs": [],
   "source": [
    "rbi.replace(r'^\\s*$', np.NaN, regex=True) #replacing empty strings with NaN in rbi dataset\n",
    "rbi = rbi.dropna(axis=0)                  #removing NaN values from rbi dataset"
   ]
  },
  {
   "cell_type": "code",
   "execution_count": 194,
   "id": "1d1e7168",
   "metadata": {},
   "outputs": [
    {
     "data": {
      "text/html": [
       "<div>\n",
       "<style scoped>\n",
       "    .dataframe tbody tr th:only-of-type {\n",
       "        vertical-align: middle;\n",
       "    }\n",
       "\n",
       "    .dataframe tbody tr th {\n",
       "        vertical-align: top;\n",
       "    }\n",
       "\n",
       "    .dataframe thead th {\n",
       "        text-align: right;\n",
       "    }\n",
       "</style>\n",
       "<table border=\"1\" class=\"dataframe\">\n",
       "  <thead>\n",
       "    <tr style=\"text-align: right;\">\n",
       "      <th></th>\n",
       "      <th>shrid</th>\n",
       "      <th>no_of_branches</th>\n",
       "    </tr>\n",
       "  </thead>\n",
       "  <tbody>\n",
       "    <tr>\n",
       "      <th>0</th>\n",
       "      <td></td>\n",
       "      <td>2332</td>\n",
       "    </tr>\n",
       "    <tr>\n",
       "      <th>1</th>\n",
       "      <td>11-01-000020</td>\n",
       "      <td>1</td>\n",
       "    </tr>\n",
       "    <tr>\n",
       "      <th>2</th>\n",
       "      <td>11-01-000024</td>\n",
       "      <td>1</td>\n",
       "    </tr>\n",
       "    <tr>\n",
       "      <th>3</th>\n",
       "      <td>11-01-000032</td>\n",
       "      <td>1</td>\n",
       "    </tr>\n",
       "    <tr>\n",
       "      <th>4</th>\n",
       "      <td>11-01-000037</td>\n",
       "      <td>1</td>\n",
       "    </tr>\n",
       "    <tr>\n",
       "      <th>...</th>\n",
       "      <td>...</td>\n",
       "      <td>...</td>\n",
       "    </tr>\n",
       "    <tr>\n",
       "      <th>37423</th>\n",
       "      <td>11-35-645529</td>\n",
       "      <td>1</td>\n",
       "    </tr>\n",
       "    <tr>\n",
       "      <th>37424</th>\n",
       "      <td>11-35-645550</td>\n",
       "      <td>2</td>\n",
       "    </tr>\n",
       "    <tr>\n",
       "      <th>37425</th>\n",
       "      <td>11-35-645551</td>\n",
       "      <td>9</td>\n",
       "    </tr>\n",
       "    <tr>\n",
       "      <th>37426</th>\n",
       "      <td>11-35-645558</td>\n",
       "      <td>2</td>\n",
       "    </tr>\n",
       "    <tr>\n",
       "      <th>37427</th>\n",
       "      <td>11-35-804041</td>\n",
       "      <td>32</td>\n",
       "    </tr>\n",
       "  </tbody>\n",
       "</table>\n",
       "<p>37428 rows × 2 columns</p>\n",
       "</div>"
      ],
      "text/plain": [
       "              shrid  no_of_branches\n",
       "0                              2332\n",
       "1      11-01-000020               1\n",
       "2      11-01-000024               1\n",
       "3      11-01-000032               1\n",
       "4      11-01-000037               1\n",
       "...             ...             ...\n",
       "37423  11-35-645529               1\n",
       "37424  11-35-645550               2\n",
       "37425  11-35-645551               9\n",
       "37426  11-35-645558               2\n",
       "37427  11-35-804041              32\n",
       "\n",
       "[37428 rows x 2 columns]"
      ]
     },
     "execution_count": 194,
     "metadata": {},
     "output_type": "execute_result"
    }
   ],
   "source": [
    "#calculating no of branches using shrid as shrid is unique to each village or town\n",
    "rbi2 = rbi.groupby('shrid').size().reset_index(name='no_of_branches')"
   ]
  },
  {
   "cell_type": "code",
   "execution_count": 195,
   "id": "28c41f0a",
   "metadata": {},
   "outputs": [],
   "source": [
    "#removing duplicate values using shrid, this will reduce the size of our rbi dataset\n",
    "rbi.drop_duplicates(subset= \"shrid\", inplace = True)"
   ]
  },
  {
   "cell_type": "code",
   "execution_count": 196,
   "id": "8919275c",
   "metadata": {},
   "outputs": [],
   "source": [
    "#Now we combine rbi dataset with pc11, secc & the dataset we created for no of branches in last step\n",
    "rbi = rbi.merge(rbi2, on = 'shrid')\n",
    "rbi = rbi.merge(pc11, on = 'shrid')\n",
    "rbi = rbi.merge(secc, on = 'shrid')"
   ]
  },
  {
   "cell_type": "code",
   "execution_count": 198,
   "id": "15f784fc",
   "metadata": {},
   "outputs": [
    {
     "data": {
      "text/plain": [
       "2.5105114"
      ]
     },
     "execution_count": 198,
     "metadata": {},
     "output_type": "execute_result"
    }
   ],
   "source": [
    "# calculating average access score for each shrid\n",
    "rbi['avg_access_score'] = (rbi['no_of_branches']/rbi['pc11_pca_tot_p'])*10000 \n",
    "\n",
    "# as we have removed many observations, we will use weights to get a more accurate access score\n",
    "rbi['weight'] = rbi['pc11_pca_tot_p']/rbi['pc11_pca_tot_p'].sum() \n",
    "rbi['final_score'] = rbi['avg_access_score']*rbi['weight']\n",
    "# we calculate a benchmark average access score for entire dataset\n",
    "benchmark_avg = rbi['final_score'].sum()\n",
    "benchmark_avg"
   ]
  },
  {
   "cell_type": "code",
   "execution_count": 199,
   "id": "738f6fad",
   "metadata": {},
   "outputs": [],
   "source": [
    "# classifying each village or town as below or above average access using a binary indicator where 1 represents above avg access\n",
    "rbi['binary_indicator'] = np.where(rbi['avg_access_score'] > benchmark_avg, 1, 0)"
   ]
  },
  {
   "cell_type": "code",
   "execution_count": 200,
   "id": "08a1e065",
   "metadata": {},
   "outputs": [],
   "source": [
    "#selecting important features to train our model from the dataset\n",
    "X_df = ['pc11_state_id',\n",
    " 'rbi_region',\n",
    " 'rbi_population_group',\n",
    " 'no_of_branches',\n",
    " 'pc11_pca_tot_p',\n",
    " 'pc11_pca_no_hh',\n",
    " 'pc11_pca_p_sc',\n",
    " 'pc11_pca_p_st',\n",
    " 'pc11_pca_p_lit',\n",
    " 'pc11_vd_p_sch',\n",
    " 'pc11_vd_m_sch',\n",
    " 'pc11_vd_s_sch',\n",
    " 'pc11_vd_s_s_sch',\n",
    " 'pc11_vd_college',\n",
    " 'pc11_vd_tar_road',\n",
    " 'pc11_vd_area',\n",
    " 'pc11_vd_power_all_sum',\n",
    " 'secc_inc_cultiv_share',\n",
    " 'nco2d_cultiv_share',\n",
    " 'secc_cons_pc_rural',\n",
    " 'secc_pov_rate_rural',\n",
    " 'secc_pov_rate_tend_rural',\n",
    " 'num_members_mean_rural']"
   ]
  },
  {
   "cell_type": "code",
   "execution_count": 201,
   "id": "7cbd5cea",
   "metadata": {},
   "outputs": [],
   "source": [
    "# defining dependent and independent variables\n",
    "rbi_X = rbi[X_df]\n",
    "rbi_y = rbi['binary_indicator']"
   ]
  },
  {
   "cell_type": "code",
   "execution_count": 202,
   "id": "c37a7642",
   "metadata": {},
   "outputs": [
    {
     "name": "stderr",
     "output_type": "stream",
     "text": [
      "<ipython-input-202-5bca440cc679>:1: DeprecationWarning: `np.object` is a deprecated alias for the builtin `object`. To silence this warning, use `object` by itself. Doing this will not modify any behavior and is safe. \n",
      "Deprecated in NumPy 1.20; for more details and guidance: https://numpy.org/devdocs/release/1.20.0-notes.html#deprecations\n",
      "  dummy_cols = rbi_X.dtypes[rbi_X.dtypes == np.object]  # filtering by string categoricals\n"
     ]
    }
   ],
   "source": [
    "# many variables in our dataset are object and we would like to convert them into dummy variables\n",
    "dummy_cols = rbi_X.dtypes[rbi_X.dtypes == np.object]  # filtering by string categoricals\n",
    "dummy_cols = dummy_cols.index.tolist()\n",
    "rbi_X = pd.get_dummies(rbi_X, columns = dummy_cols, drop_first = True)"
   ]
  },
  {
   "cell_type": "code",
   "execution_count": 203,
   "id": "56ec0fad",
   "metadata": {},
   "outputs": [
    {
     "name": "stdout",
     "output_type": "stream",
     "text": [
      "<class 'pandas.core.frame.DataFrame'>\n",
      "Int64Index: 36159 entries, 0 to 36158\n",
      "Data columns (total 62 columns):\n",
      " #   Column                           Non-Null Count  Dtype  \n",
      "---  ------                           --------------  -----  \n",
      " 0   no_of_branches                   36159 non-null  int64  \n",
      " 1   pc11_pca_tot_p                   36159 non-null  float32\n",
      " 2   pc11_pca_no_hh                   36159 non-null  float32\n",
      " 3   pc11_pca_p_sc                    36159 non-null  float32\n",
      " 4   pc11_pca_p_st                    36159 non-null  float32\n",
      " 5   pc11_pca_p_lit                   36159 non-null  float32\n",
      " 6   pc11_vd_p_sch                    36159 non-null  float64\n",
      " 7   pc11_vd_m_sch                    36159 non-null  float64\n",
      " 8   pc11_vd_s_sch                    36159 non-null  float64\n",
      " 9   pc11_vd_s_s_sch                  36159 non-null  float64\n",
      " 10  pc11_vd_college                  36159 non-null  float64\n",
      " 11  pc11_vd_tar_road                 36159 non-null  float64\n",
      " 12  pc11_vd_area                     36159 non-null  float64\n",
      " 13  pc11_vd_power_all_sum            36159 non-null  float32\n",
      " 14  secc_inc_cultiv_share            36159 non-null  float32\n",
      " 15  nco2d_cultiv_share               36159 non-null  float32\n",
      " 16  secc_cons_pc_rural               36159 non-null  float64\n",
      " 17  secc_pov_rate_rural              36159 non-null  float64\n",
      " 18  secc_pov_rate_tend_rural         36159 non-null  float64\n",
      " 19  num_members_mean_rural           36159 non-null  float64\n",
      " 20  pc11_state_id_02                 36159 non-null  uint8  \n",
      " 21  pc11_state_id_03                 36159 non-null  uint8  \n",
      " 22  pc11_state_id_04                 36159 non-null  uint8  \n",
      " 23  pc11_state_id_05                 36159 non-null  uint8  \n",
      " 24  pc11_state_id_06                 36159 non-null  uint8  \n",
      " 25  pc11_state_id_07                 36159 non-null  uint8  \n",
      " 26  pc11_state_id_08                 36159 non-null  uint8  \n",
      " 27  pc11_state_id_09                 36159 non-null  uint8  \n",
      " 28  pc11_state_id_10                 36159 non-null  uint8  \n",
      " 29  pc11_state_id_11                 36159 non-null  uint8  \n",
      " 30  pc11_state_id_12                 36159 non-null  uint8  \n",
      " 31  pc11_state_id_13                 36159 non-null  uint8  \n",
      " 32  pc11_state_id_14                 36159 non-null  uint8  \n",
      " 33  pc11_state_id_15                 36159 non-null  uint8  \n",
      " 34  pc11_state_id_16                 36159 non-null  uint8  \n",
      " 35  pc11_state_id_17                 36159 non-null  uint8  \n",
      " 36  pc11_state_id_18                 36159 non-null  uint8  \n",
      " 37  pc11_state_id_19                 36159 non-null  uint8  \n",
      " 38  pc11_state_id_20                 36159 non-null  uint8  \n",
      " 39  pc11_state_id_21                 36159 non-null  uint8  \n",
      " 40  pc11_state_id_22                 36159 non-null  uint8  \n",
      " 41  pc11_state_id_23                 36159 non-null  uint8  \n",
      " 42  pc11_state_id_24                 36159 non-null  uint8  \n",
      " 43  pc11_state_id_25                 36159 non-null  uint8  \n",
      " 44  pc11_state_id_26                 36159 non-null  uint8  \n",
      " 45  pc11_state_id_27                 36159 non-null  uint8  \n",
      " 46  pc11_state_id_28                 36159 non-null  uint8  \n",
      " 47  pc11_state_id_29                 36159 non-null  uint8  \n",
      " 48  pc11_state_id_30                 36159 non-null  uint8  \n",
      " 49  pc11_state_id_31                 36159 non-null  uint8  \n",
      " 50  pc11_state_id_32                 36159 non-null  uint8  \n",
      " 51  pc11_state_id_33                 36159 non-null  uint8  \n",
      " 52  pc11_state_id_34                 36159 non-null  uint8  \n",
      " 53  pc11_state_id_35                 36159 non-null  uint8  \n",
      " 54  rbi_region_EASTERN REGION        36159 non-null  uint8  \n",
      " 55  rbi_region_NORTH EASTERN REGION  36159 non-null  uint8  \n",
      " 56  rbi_region_NORTHERN REGION       36159 non-null  uint8  \n",
      " 57  rbi_region_SOUTHERN REGION       36159 non-null  uint8  \n",
      " 58  rbi_region_WESTERN REGION        36159 non-null  uint8  \n",
      " 59  rbi_population_group_Rural       36159 non-null  uint8  \n",
      " 60  rbi_population_group_Semi-urban  36159 non-null  uint8  \n",
      " 61  rbi_population_group_Urban       36159 non-null  uint8  \n",
      "dtypes: float32(8), float64(11), int64(1), uint8(42)\n",
      "memory usage: 6.1 MB\n"
     ]
    }
   ],
   "source": [
    "#many features contains missing values and we fill those missing values using mean\n",
    "rbi_X = rbi_X.apply(lambda x: x.fillna(x.mean()),axis=0)"
   ]
  },
  {
   "cell_type": "code",
   "execution_count": 204,
   "id": "c472d6a0",
   "metadata": {},
   "outputs": [],
   "source": [
    "# Splitting the dataset into train and test set using a stratified shuffling\n",
    "from sklearn.model_selection import StratifiedShuffleSplit\n",
    "\n",
    "# Get the split indexes\n",
    "strat_shuf_split = StratifiedShuffleSplit(n_splits=1, \n",
    "                                          test_size=0.2, \n",
    "                                          random_state=42)\n",
    "\n",
    "train_idx, test_idx = next(strat_shuf_split.split(rbi_X, rbi_y))\n",
    "\n",
    "# Create the dataframes\n",
    "X_train = rbi_X.loc[train_idx]\n",
    "y_train = rbi_y.loc[train_idx]\n",
    "\n",
    "X_test  = rbi_X.loc[test_idx]\n",
    "y_test  = rbi_y.loc[test_idx]"
   ]
  },
  {
   "cell_type": "code",
   "execution_count": 222,
   "id": "e43990d2",
   "metadata": {},
   "outputs": [
    {
     "name": "stdout",
     "output_type": "stream",
     "text": [
      "              precision    recall  f1-score   support\n",
      "\n",
      "           0       0.73      0.49      0.59      2899\n",
      "           1       0.72      0.88      0.79      4333\n",
      "\n",
      "    accuracy                           0.72      7232\n",
      "   macro avg       0.73      0.69      0.69      7232\n",
      "weighted avg       0.73      0.72      0.71      7232\n",
      "\n",
      "Accuracy score:  0.724\n",
      "F1 Score:  0.792\n",
      "Precision score: 0.721\n",
      "recall score: 0.879\n"
     ]
    },
    {
     "name": "stderr",
     "output_type": "stream",
     "text": [
      "C:\\ProgramData\\Anaconda3\\lib\\site-packages\\sklearn\\linear_model\\_logistic.py:763: ConvergenceWarning: lbfgs failed to converge (status=1):\n",
      "STOP: TOTAL NO. of ITERATIONS REACHED LIMIT.\n",
      "\n",
      "Increase the number of iterations (max_iter) or scale the data as shown in:\n",
      "    https://scikit-learn.org/stable/modules/preprocessing.html\n",
      "Please also refer to the documentation for alternative solver options:\n",
      "    https://scikit-learn.org/stable/modules/linear_model.html#logistic-regression\n",
      "  n_iter_i = _check_optimize_result(\n"
     ]
    }
   ],
   "source": [
    "# Training a logistic regression on training dataset and predicting using our test dataset\n",
    "# we also print all error metrics to assess the performance of the model\n",
    "from sklearn.linear_model import LogisticRegression\n",
    "from sklearn.metrics import confusion_matrix, accuracy_score, classification_report,\n",
    "from sklearn.metrics import f1_score, precision_score, recall_score\n",
    "lr = LogisticRegression(penalty = 'l1',\n",
    "                       C = 100.0,\n",
    "                       solver = 'liblinear')\n",
    "lr.fit(X_train, y_train)\n",
    "y_pred_lr = lr.predict(X_test)\n",
    "\n",
    "# Preciision, recall, f-score from the multi-class support function\n",
    "print(classification_report(y_test, y_pred_lr))\n",
    "print('Accuracy score: ', round(accuracy_score(y_test, y_pred_lr), 3))\n",
    "print('F1 Score: ', round(f1_score(y_test, y_pred_lr), 3))\n",
    "print('Precision score:', round(precision_score(y_test, y_pred_lr), 3))\n",
    "print('recall score:', round(recall_score(y_test, y_pred_lr), 3))"
   ]
  },
  {
   "cell_type": "code",
   "execution_count": 223,
   "id": "dd14f1f7",
   "metadata": {},
   "outputs": [
    {
     "data": {
      "text/html": [
       "<div>\n",
       "<style scoped>\n",
       "    .dataframe tbody tr th:only-of-type {\n",
       "        vertical-align: middle;\n",
       "    }\n",
       "\n",
       "    .dataframe tbody tr th {\n",
       "        vertical-align: top;\n",
       "    }\n",
       "\n",
       "    .dataframe thead th {\n",
       "        text-align: right;\n",
       "    }\n",
       "</style>\n",
       "<table border=\"1\" class=\"dataframe\">\n",
       "  <thead>\n",
       "    <tr style=\"text-align: right;\">\n",
       "      <th></th>\n",
       "      <th>0</th>\n",
       "      <th>1</th>\n",
       "    </tr>\n",
       "  </thead>\n",
       "  <tbody>\n",
       "    <tr>\n",
       "      <th>0</th>\n",
       "      <td>1425</td>\n",
       "      <td>1474</td>\n",
       "    </tr>\n",
       "    <tr>\n",
       "      <th>1</th>\n",
       "      <td>523</td>\n",
       "      <td>3810</td>\n",
       "    </tr>\n",
       "  </tbody>\n",
       "</table>\n",
       "</div>"
      ],
      "text/plain": [
       "      0     1\n",
       "0  1425  1474\n",
       "1   523  3810"
      ]
     },
     "execution_count": 223,
     "metadata": {},
     "output_type": "execute_result"
    }
   ],
   "source": [
    "# calculating confusion matrix for our logistic regression model\n",
    "conf_matrix = pd.DataFrame(confusion_matrix(y_test, y_pred_lr))\n",
    "conf_matrix"
   ]
  },
  {
   "cell_type": "code",
   "execution_count": 220,
   "id": "d617f5fc",
   "metadata": {},
   "outputs": [
    {
     "name": "stdout",
     "output_type": "stream",
     "text": [
      "              precision    recall  f1-score   support\n",
      "\n",
      "           0       0.80      0.93      0.86      2899\n",
      "           1       0.95      0.84      0.89      4333\n",
      "\n",
      "    accuracy                           0.88      7232\n",
      "   macro avg       0.87      0.89      0.87      7232\n",
      "weighted avg       0.89      0.88      0.88      7232\n",
      "\n",
      "Accuracy score:  0.877\n",
      "F1 Score:  0.891\n",
      "Precision score: 0.947\n",
      "recall score: 0.841\n"
     ]
    }
   ],
   "source": [
    "# training a K-Nearest neighbors classifier on training dataset\n",
    "from sklearn.neighbors import KNeighborsClassifier\n",
    "knn = KNeighborsClassifier(n_neighbors=20)\n",
    "knn = knn.fit(X_train, y_train)\n",
    "y_pred_knn = knn.predict(X_test)\n",
    "\n",
    "# Preciision, recall, f-score from the multi-class support function\n",
    "print(classification_report(y_test, y_pred_knn))\n",
    "print('Accuracy score: ', round(accuracy_score(y_test, y_pred_knn), 3))\n",
    "print('F1 Score: ', round(f1_score(y_test, y_pred_knn), 3))\n",
    "print('Precision score:', round(precision_score(y_test, y_pred_knn), 3))\n",
    "print('recall score:', round(recall_score(y_test, y_pred_knn), 3))"
   ]
  },
  {
   "cell_type": "code",
   "execution_count": 215,
   "id": "c8043d24",
   "metadata": {},
   "outputs": [
    {
     "data": {
      "text/html": [
       "<div>\n",
       "<style scoped>\n",
       "    .dataframe tbody tr th:only-of-type {\n",
       "        vertical-align: middle;\n",
       "    }\n",
       "\n",
       "    .dataframe tbody tr th {\n",
       "        vertical-align: top;\n",
       "    }\n",
       "\n",
       "    .dataframe thead th {\n",
       "        text-align: right;\n",
       "    }\n",
       "</style>\n",
       "<table border=\"1\" class=\"dataframe\">\n",
       "  <thead>\n",
       "    <tr style=\"text-align: right;\">\n",
       "      <th></th>\n",
       "      <th>0</th>\n",
       "      <th>1</th>\n",
       "    </tr>\n",
       "  </thead>\n",
       "  <tbody>\n",
       "    <tr>\n",
       "      <th>0</th>\n",
       "      <td>2455</td>\n",
       "      <td>444</td>\n",
       "    </tr>\n",
       "    <tr>\n",
       "      <th>1</th>\n",
       "      <td>609</td>\n",
       "      <td>3724</td>\n",
       "    </tr>\n",
       "  </tbody>\n",
       "</table>\n",
       "</div>"
      ],
      "text/plain": [
       "      0     1\n",
       "0  2455   444\n",
       "1   609  3724"
      ]
     },
     "execution_count": 215,
     "metadata": {},
     "output_type": "execute_result"
    }
   ],
   "source": [
    "#confusion matrix for K-Nearest neighbor classification model\n",
    "conf_matrix = pd.DataFrame(confusion_matrix(y_test, y_pred_knn))\n",
    "conf_matrix"
   ]
  }
 ],
 "metadata": {
  "kernelspec": {
   "display_name": "Python 3",
   "language": "python",
   "name": "python3"
  },
  "language_info": {
   "codemirror_mode": {
    "name": "ipython",
    "version": 3
   },
   "file_extension": ".py",
   "mimetype": "text/x-python",
   "name": "python",
   "nbconvert_exporter": "python",
   "pygments_lexer": "ipython3",
   "version": "3.8.8"
  }
 },
 "nbformat": 4,
 "nbformat_minor": 5
}
